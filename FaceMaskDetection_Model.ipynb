{
  "nbformat": 4,
  "nbformat_minor": 0,
  "metadata": {
    "colab": {
      "name": "FaceMaskDetection_Model.ipynb",
      "provenance": [],
      "collapsed_sections": []
    },
    "kernelspec": {
      "name": "python3",
      "display_name": "Python 3"
    },
    "language_info": {
      "name": "python"
    },
    "accelerator": "GPU"
  },
  "cells": [
    {
      "cell_type": "code",
      "metadata": {
        "id": "lunvqksyNYNe"
      },
      "source": [
        "import tensorflow as tf \n",
        "import cv2\n",
        "import numpy as np\n",
        "import matplotlib.pyplot as plt\n",
        "import pandas as pd\n",
        "import os\n",
        "from os.path import join"
      ],
      "execution_count": null,
      "outputs": []
    },
    {
      "cell_type": "code",
      "metadata": {
        "id": "oFt_UUeh1nCi"
      },
      "source": [
        "!unzip '/content/drive/MyDrive/Face mask/data3.zip'"
      ],
      "execution_count": null,
      "outputs": []
    },
    {
      "cell_type": "code",
      "metadata": {
        "id": "jgQ7ObzPFxIi"
      },
      "source": [
        "base_dir = '/content/Dataset'\n",
        "\n",
        "from google.colab.patches import cv2_imshow\n",
        "x_train = []\n",
        "y_train = []\n",
        "x_test = []\n",
        "y_test = []\n",
        "label = {\n",
        "    'without_mask':0,\n",
        "    'with_mask':1\n",
        "}\n",
        "x = []\n",
        "y = []\n",
        "\n",
        "# for sett in ['test', 'train']:\n",
        "#     path = join(base_dir, sett)\n",
        "for c in ['with_mask', 'without_mask']:\n",
        "    p = join(base_dir, c)\n",
        "    for fil in os.listdir(p):\n",
        "        im = join(p, fil)\n",
        "        img = cv2.imread(im)\n",
        "        img = cv2.resize(img, (224,224))\n",
        "        x.append(img)\n",
        "        y.append(label[c])\n",
        "        # if sett == 'train':\n",
        "        #     x_train.append(img)\n",
        "        #     y_train.append(label[c])\n",
        "        # else:\n",
        "        #     x_test.append(img)\n",
        "        #     y_test.append(label[c])\n",
        "\n",
        "x = np.array(x)\n",
        "y = np.array(y)"
      ],
      "execution_count": null,
      "outputs": []
    },
    {
      "cell_type": "code",
      "metadata": {
        "id": "daLz5xINy4XX"
      },
      "source": [
        "import sklearn\n",
        "from sklearn.model_selection import train_test_split\n",
        "\n",
        "x_train, x_test, y_train, y_test = train_test_split(x, y, test_size = 0.2)"
      ],
      "execution_count": null,
      "outputs": []
    },
    {
      "cell_type": "code",
      "metadata": {
        "id": "PF2uQaNRGr7U"
      },
      "source": [
        "x_train = np.array([x_train]).reshape(-1,224,224,3)\n",
        "y_train = np.array([y_train]).reshape(-1)\n",
        "x_test = np.array([x_test]).reshape(-1,224,224,3)\n",
        "y_test = np.array([y_test]).reshape(-1)"
      ],
      "execution_count": null,
      "outputs": []
    },
    {
      "cell_type": "code",
      "metadata": {
        "id": "KH6RPDjCQBas"
      },
      "source": [
        "y_train = tf.one_hot(y_train, 2)\n",
        "y_test = tf.one_hot(y_test, 2)"
      ],
      "execution_count": null,
      "outputs": []
    },
    {
      "cell_type": "code",
      "metadata": {
        "id": "P9mlscOzMAj7"
      },
      "source": [
        "from tensorflow.keras.preprocessing.image import ImageDataGenerator\n",
        "\n",
        "aug = ImageDataGenerator(\n",
        "\trescale = 1./255,\n",
        "\trotation_range=30,\n",
        "\tzoom_range=0.15,\n",
        "\twidth_shift_range=0.2,\n",
        "\theight_shift_range=0.2,\n",
        "\tshear_range=0.15,\n",
        "\thorizontal_flip=True,\n",
        "\tfill_mode=\"nearest\"\n",
        ")"
      ],
      "execution_count": null,
      "outputs": []
    },
    {
      "cell_type": "code",
      "metadata": {
        "colab": {
          "base_uri": "https://localhost:8080/"
        },
        "id": "-IktR_CwMj6K",
        "outputId": "b5649654-0d8b-4786-c5c8-1ebe7ec36937"
      },
      "source": [
        "from tensorflow.keras.applications import MobileNetV2\n",
        "import tensorflow.keras.layers as Layers\n",
        "from tensorflow.keras.models import Model\n",
        "\n",
        "\n",
        "basemodel = MobileNetV2(weights = 'imagenet', include_top=False, input_tensor = Layers.Input(shape = (224,224,3)))\n",
        "basemodel.trainable = False\n",
        "top = basemodel.output\n",
        "# top = Layers.AveragePooling2D((7,7))(top)\n",
        "# top = Layers.Flatten()(top)\n",
        "top = Layers.GlobalAveragePooling2D(keepdims = False)(top)\n",
        "top = Layers.Dense(512)(top)\n",
        "top = Layers.LeakyReLU()(top)\n",
        "top = Layers.Dropout(0.5)(top)\n",
        "top = Layers.Dense(128)(top)\n",
        "top = Layers.LeakyReLU()(top)\n",
        "top = Layers.Dropout(0.5)(top)\n",
        "top = Layers.Dense(2, activation = 'softmax')(top)\n",
        "\n",
        "\n",
        "model = Model(inputs=basemodel.input, outputs=top)\n",
        "# model.summary()"
      ],
      "execution_count": null,
      "outputs": [
        {
          "output_type": "stream",
          "name": "stdout",
          "text": [
            "WARNING:tensorflow:`input_shape` is undefined or non-square, or `rows` is not in [96, 128, 160, 192, 224]. Weights for input shape (224, 224) will be loaded as the default.\n",
            "Downloading data from https://storage.googleapis.com/tensorflow/keras-applications/mobilenet_v2/mobilenet_v2_weights_tf_dim_ordering_tf_kernels_1.0_224_no_top.h5\n",
            "9412608/9406464 [==============================] - 0s 0us/step\n",
            "9420800/9406464 [==============================] - 0s 0us/step\n"
          ]
        }
      ]
    },
    {
      "cell_type": "code",
      "metadata": {
        "id": "PiofM1KQNfT0"
      },
      "source": [
        "from tensorflow.keras.optimizers import Adam\n",
        "\n",
        "opt = Adam(learning_rate = 0.0001)\n",
        "model.compile(loss=\"binary_crossentropy\", optimizer=opt, metrics=[\"accuracy\"])"
      ],
      "execution_count": null,
      "outputs": []
    },
    {
      "cell_type": "code",
      "metadata": {
        "colab": {
          "base_uri": "https://localhost:8080/"
        },
        "id": "yBwrIOI6PhsD",
        "outputId": "137d789a-5979-4e7c-c94c-b60950222635"
      },
      "source": [
        "history = model.fit(aug.flow(x_train, y_train, batch_size=32), validation_data=(x_test, y_test), epochs = 20)"
      ],
      "execution_count": null,
      "outputs": [
        {
          "output_type": "stream",
          "name": "stdout",
          "text": [
            "Epoch 1/20\n",
            "150/150 [==============================] - 65s 431ms/step - loss: 0.0641 - accuracy: 0.9743 - val_loss: 0.7742 - val_accuracy: 0.6937\n",
            "Epoch 2/20\n",
            "150/150 [==============================] - 65s 430ms/step - loss: 0.0616 - accuracy: 0.9764 - val_loss: 0.9874 - val_accuracy: 0.6544\n",
            "Epoch 3/20\n",
            "150/150 [==============================] - 65s 431ms/step - loss: 0.0572 - accuracy: 0.9783 - val_loss: 0.7328 - val_accuracy: 0.7003\n",
            "Epoch 4/20\n",
            "150/150 [==============================] - 63s 422ms/step - loss: 0.0574 - accuracy: 0.9772 - val_loss: 0.7879 - val_accuracy: 0.6778\n",
            "Epoch 5/20\n",
            "150/150 [==============================] - 59s 393ms/step - loss: 0.0621 - accuracy: 0.9747 - val_loss: 0.8800 - val_accuracy: 0.6870\n",
            "Epoch 6/20\n",
            "150/150 [==============================] - 59s 395ms/step - loss: 0.0620 - accuracy: 0.9754 - val_loss: 0.9933 - val_accuracy: 0.6461\n",
            "Epoch 7/20\n",
            "150/150 [==============================] - 59s 392ms/step - loss: 0.0594 - accuracy: 0.9777 - val_loss: 0.9600 - val_accuracy: 0.6711\n",
            "Epoch 8/20\n",
            "150/150 [==============================] - 60s 400ms/step - loss: 0.0610 - accuracy: 0.9754 - val_loss: 1.3371 - val_accuracy: 0.6068\n",
            "Epoch 9/20\n",
            "150/150 [==============================] - 59s 394ms/step - loss: 0.0529 - accuracy: 0.9818 - val_loss: 0.9857 - val_accuracy: 0.6745\n",
            "Epoch 10/20\n",
            "150/150 [==============================] - 61s 408ms/step - loss: 0.0538 - accuracy: 0.9797 - val_loss: 0.9963 - val_accuracy: 0.6736\n",
            "Epoch 11/20\n",
            "150/150 [==============================] - 59s 395ms/step - loss: 0.0589 - accuracy: 0.9785 - val_loss: 0.7739 - val_accuracy: 0.6886\n",
            "Epoch 12/20\n",
            "150/150 [==============================] - 60s 398ms/step - loss: 0.0552 - accuracy: 0.9806 - val_loss: 0.8555 - val_accuracy: 0.6770\n",
            "Epoch 13/20\n",
            "150/150 [==============================] - 60s 401ms/step - loss: 0.0533 - accuracy: 0.9797 - val_loss: 0.9581 - val_accuracy: 0.6795\n",
            "Epoch 14/20\n",
            "150/150 [==============================] - 60s 402ms/step - loss: 0.0575 - accuracy: 0.9772 - val_loss: 0.9442 - val_accuracy: 0.6828\n",
            "Epoch 15/20\n",
            "150/150 [==============================] - 60s 402ms/step - loss: 0.0541 - accuracy: 0.9806 - val_loss: 0.8507 - val_accuracy: 0.6820\n",
            "Epoch 16/20\n",
            "150/150 [==============================] - 61s 404ms/step - loss: 0.0523 - accuracy: 0.9808 - val_loss: 0.8015 - val_accuracy: 0.6903\n",
            "Epoch 17/20\n",
            "150/150 [==============================] - 60s 401ms/step - loss: 0.0506 - accuracy: 0.9814 - val_loss: 0.8578 - val_accuracy: 0.6878\n",
            "Epoch 18/20\n",
            "150/150 [==============================] - 60s 398ms/step - loss: 0.0512 - accuracy: 0.9823 - val_loss: 0.9537 - val_accuracy: 0.6820\n",
            "Epoch 19/20\n",
            "150/150 [==============================] - 59s 394ms/step - loss: 0.0535 - accuracy: 0.9800 - val_loss: 0.8691 - val_accuracy: 0.6870\n",
            "Epoch 20/20\n",
            "150/150 [==============================] - 59s 396ms/step - loss: 0.0512 - accuracy: 0.9816 - val_loss: 1.1183 - val_accuracy: 0.6644\n"
          ]
        }
      ]
    },
    {
      "cell_type": "code",
      "metadata": {
        "id": "yeQBgo3bPw2j",
        "colab": {
          "base_uri": "https://localhost:8080/"
        },
        "outputId": "1ad67bd6-c0e5-49a9-b227-6cb67ad46007"
      },
      "source": [
        "from sklearn.metrics import classification_report\n",
        "\n",
        "preds = np.argmax(model.predict(x_test, batch_size=32), axis = -1)\n",
        "print(classification_report(np.argmax(y_test, axis=1), preds, target_names=['without_mask', 'with_mask']))"
      ],
      "execution_count": null,
      "outputs": [
        {
          "output_type": "stream",
          "name": "stdout",
          "text": [
            "              precision    recall  f1-score   support\n",
            "\n",
            "without_mask       0.77      0.43      0.55       576\n",
            "   with_mask       0.63      0.88      0.73       622\n",
            "\n",
            "    accuracy                           0.66      1198\n",
            "   macro avg       0.70      0.66      0.64      1198\n",
            "weighted avg       0.69      0.66      0.65      1198\n",
            "\n"
          ]
        }
      ]
    },
    {
      "cell_type": "code",
      "metadata": {
        "colab": {
          "base_uri": "https://localhost:8080/"
        },
        "id": "Nms25akvsGq1",
        "outputId": "b3467212-a4e3-4360-f639-edd3c05bc0c9"
      },
      "source": [
        "model.save('mask_detection2.h5')"
      ],
      "execution_count": null,
      "outputs": [
        {
          "output_type": "stream",
          "name": "stderr",
          "text": [
            "/usr/local/lib/python3.7/dist-packages/keras/utils/generic_utils.py:497: CustomMaskWarning: Custom mask layers require a config and must override get_config. When loading, the custom mask layer must be passed to the custom_objects argument.\n",
            "  category=CustomMaskWarning)\n"
          ]
        }
      ]
    },
    {
      "cell_type": "code",
      "metadata": {
        "id": "AodLrSoztlEh"
      },
      "source": [
        ""
      ],
      "execution_count": null,
      "outputs": []
    }
  ]
}